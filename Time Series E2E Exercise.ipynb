{
 "cells": [
  {
   "cell_type": "markdown",
   "id": "ab953fb2",
   "metadata": {},
   "source": [
    "# Time Series E2E Exercise\n",
    "\n",
    "### James Allen\n",
    "\n",
    "You will use the earth surface temperature data offered by Berkeley Earth through Kaggle.com. You will select one location, could be a city or a state or something relatively similar in size and analyze the patterns in temperature over time. You will then model those patterns to forecast temperature into the future (how far is up to you, but should be something meaningful).\n",
    "\n",
    "- Use the data from this kaggle competition: https://www.kaggle.com/berkeleyearth/climate-change-earth-surface-temperature-data"
   ]
  },
  {
   "cell_type": "code",
   "execution_count": 1,
   "id": "97fa7bac",
   "metadata": {},
   "outputs": [],
   "source": [
    "# imports\n",
    "import pandas as pd\n",
    "import numpy as np\n",
    "import os\n",
    "\n",
    "from datetime import datetime\n",
    "from sklearn.metrics import mean_squared_error\n",
    "from math import sqrt\n",
    "\n",
    "import matplotlib.pyplot as plt\n",
    "%matplotlib inline\n",
    "import seaborn as sns\n",
    "from pandas.plotting import register_matplotlib_converters\n",
    "\n",
    "from matplotlib.ticker import StrMethodFormatter\n",
    "from matplotlib.dates import DateFormatter\n",
    "\n",
    "import statsmodels.api as sm\n",
    "from statsmodels.tsa.api import Holt\n",
    "\n",
    "import warnings\n",
    "warnings.filterwarnings(\"ignore\")"
   ]
  },
  {
   "cell_type": "code",
   "execution_count": 2,
   "id": "d8d88e90",
   "metadata": {},
   "outputs": [],
   "source": [
    "# getting the climate change data\n",
    "df = pd.read_csv('GlobalLandTemperaturesByCity.csv')"
   ]
  },
  {
   "cell_type": "code",
   "execution_count": 3,
   "id": "ce80ae9a",
   "metadata": {},
   "outputs": [
    {
     "data": {
      "text/html": [
       "<div>\n",
       "<style scoped>\n",
       "    .dataframe tbody tr th:only-of-type {\n",
       "        vertical-align: middle;\n",
       "    }\n",
       "\n",
       "    .dataframe tbody tr th {\n",
       "        vertical-align: top;\n",
       "    }\n",
       "\n",
       "    .dataframe thead th {\n",
       "        text-align: right;\n",
       "    }\n",
       "</style>\n",
       "<table border=\"1\" class=\"dataframe\">\n",
       "  <thead>\n",
       "    <tr style=\"text-align: right;\">\n",
       "      <th></th>\n",
       "      <th>dt</th>\n",
       "      <th>AverageTemperature</th>\n",
       "      <th>AverageTemperatureUncertainty</th>\n",
       "      <th>City</th>\n",
       "      <th>Country</th>\n",
       "      <th>Latitude</th>\n",
       "      <th>Longitude</th>\n",
       "    </tr>\n",
       "  </thead>\n",
       "  <tbody>\n",
       "    <tr>\n",
       "      <th>0</th>\n",
       "      <td>1743-11-01</td>\n",
       "      <td>6.068</td>\n",
       "      <td>1.737</td>\n",
       "      <td>Århus</td>\n",
       "      <td>Denmark</td>\n",
       "      <td>57.05N</td>\n",
       "      <td>10.33E</td>\n",
       "    </tr>\n",
       "    <tr>\n",
       "      <th>1</th>\n",
       "      <td>1743-12-01</td>\n",
       "      <td>NaN</td>\n",
       "      <td>NaN</td>\n",
       "      <td>Århus</td>\n",
       "      <td>Denmark</td>\n",
       "      <td>57.05N</td>\n",
       "      <td>10.33E</td>\n",
       "    </tr>\n",
       "    <tr>\n",
       "      <th>2</th>\n",
       "      <td>1744-01-01</td>\n",
       "      <td>NaN</td>\n",
       "      <td>NaN</td>\n",
       "      <td>Århus</td>\n",
       "      <td>Denmark</td>\n",
       "      <td>57.05N</td>\n",
       "      <td>10.33E</td>\n",
       "    </tr>\n",
       "    <tr>\n",
       "      <th>3</th>\n",
       "      <td>1744-02-01</td>\n",
       "      <td>NaN</td>\n",
       "      <td>NaN</td>\n",
       "      <td>Århus</td>\n",
       "      <td>Denmark</td>\n",
       "      <td>57.05N</td>\n",
       "      <td>10.33E</td>\n",
       "    </tr>\n",
       "    <tr>\n",
       "      <th>4</th>\n",
       "      <td>1744-03-01</td>\n",
       "      <td>NaN</td>\n",
       "      <td>NaN</td>\n",
       "      <td>Århus</td>\n",
       "      <td>Denmark</td>\n",
       "      <td>57.05N</td>\n",
       "      <td>10.33E</td>\n",
       "    </tr>\n",
       "  </tbody>\n",
       "</table>\n",
       "</div>"
      ],
      "text/plain": [
       "           dt  AverageTemperature  AverageTemperatureUncertainty   City  \\\n",
       "0  1743-11-01               6.068                          1.737  Århus   \n",
       "1  1743-12-01                 NaN                            NaN  Århus   \n",
       "2  1744-01-01                 NaN                            NaN  Århus   \n",
       "3  1744-02-01                 NaN                            NaN  Århus   \n",
       "4  1744-03-01                 NaN                            NaN  Århus   \n",
       "\n",
       "   Country Latitude Longitude  \n",
       "0  Denmark   57.05N    10.33E  \n",
       "1  Denmark   57.05N    10.33E  \n",
       "2  Denmark   57.05N    10.33E  \n",
       "3  Denmark   57.05N    10.33E  \n",
       "4  Denmark   57.05N    10.33E  "
      ]
     },
     "execution_count": 3,
     "metadata": {},
     "output_type": "execute_result"
    }
   ],
   "source": [
    "df.head() # check_yo_head"
   ]
  },
  {
   "cell_type": "code",
   "execution_count": 4,
   "id": "e15c8113",
   "metadata": {},
   "outputs": [],
   "source": [
    "# selecting my hometown on \"Sacramento\", California\n",
    "smf_df = df[df['City'] == \"Sacramento\"]"
   ]
  },
  {
   "cell_type": "code",
   "execution_count": 5,
   "id": "d8bdb171",
   "metadata": {},
   "outputs": [
    {
     "data": {
      "text/html": [
       "<div>\n",
       "<style scoped>\n",
       "    .dataframe tbody tr th:only-of-type {\n",
       "        vertical-align: middle;\n",
       "    }\n",
       "\n",
       "    .dataframe tbody tr th {\n",
       "        vertical-align: top;\n",
       "    }\n",
       "\n",
       "    .dataframe thead th {\n",
       "        text-align: right;\n",
       "    }\n",
       "</style>\n",
       "<table border=\"1\" class=\"dataframe\">\n",
       "  <thead>\n",
       "    <tr style=\"text-align: right;\">\n",
       "      <th></th>\n",
       "      <th>dt</th>\n",
       "      <th>AverageTemperature</th>\n",
       "      <th>AverageTemperatureUncertainty</th>\n",
       "      <th>City</th>\n",
       "      <th>Country</th>\n",
       "      <th>Latitude</th>\n",
       "      <th>Longitude</th>\n",
       "    </tr>\n",
       "  </thead>\n",
       "  <tbody>\n",
       "    <tr>\n",
       "      <th>6506228</th>\n",
       "      <td>1849-01-01</td>\n",
       "      <td>8.092</td>\n",
       "      <td>2.192</td>\n",
       "      <td>Sacramento</td>\n",
       "      <td>United States</td>\n",
       "      <td>37.78N</td>\n",
       "      <td>122.03W</td>\n",
       "    </tr>\n",
       "    <tr>\n",
       "      <th>6506229</th>\n",
       "      <td>1849-02-01</td>\n",
       "      <td>9.508</td>\n",
       "      <td>1.850</td>\n",
       "      <td>Sacramento</td>\n",
       "      <td>United States</td>\n",
       "      <td>37.78N</td>\n",
       "      <td>122.03W</td>\n",
       "    </tr>\n",
       "    <tr>\n",
       "      <th>6506230</th>\n",
       "      <td>1849-03-01</td>\n",
       "      <td>11.701</td>\n",
       "      <td>2.129</td>\n",
       "      <td>Sacramento</td>\n",
       "      <td>United States</td>\n",
       "      <td>37.78N</td>\n",
       "      <td>122.03W</td>\n",
       "    </tr>\n",
       "    <tr>\n",
       "      <th>6506231</th>\n",
       "      <td>1849-04-01</td>\n",
       "      <td>13.102</td>\n",
       "      <td>2.559</td>\n",
       "      <td>Sacramento</td>\n",
       "      <td>United States</td>\n",
       "      <td>37.78N</td>\n",
       "      <td>122.03W</td>\n",
       "    </tr>\n",
       "    <tr>\n",
       "      <th>6506232</th>\n",
       "      <td>1849-05-01</td>\n",
       "      <td>14.045</td>\n",
       "      <td>1.909</td>\n",
       "      <td>Sacramento</td>\n",
       "      <td>United States</td>\n",
       "      <td>37.78N</td>\n",
       "      <td>122.03W</td>\n",
       "    </tr>\n",
       "  </tbody>\n",
       "</table>\n",
       "</div>"
      ],
      "text/plain": [
       "                 dt  AverageTemperature  AverageTemperatureUncertainty  \\\n",
       "6506228  1849-01-01               8.092                          2.192   \n",
       "6506229  1849-02-01               9.508                          1.850   \n",
       "6506230  1849-03-01              11.701                          2.129   \n",
       "6506231  1849-04-01              13.102                          2.559   \n",
       "6506232  1849-05-01              14.045                          1.909   \n",
       "\n",
       "               City        Country Latitude Longitude  \n",
       "6506228  Sacramento  United States   37.78N   122.03W  \n",
       "6506229  Sacramento  United States   37.78N   122.03W  \n",
       "6506230  Sacramento  United States   37.78N   122.03W  \n",
       "6506231  Sacramento  United States   37.78N   122.03W  \n",
       "6506232  Sacramento  United States   37.78N   122.03W  "
      ]
     },
     "execution_count": 5,
     "metadata": {},
     "output_type": "execute_result"
    }
   ],
   "source": [
    "smf_df.head() # check_yo_head"
   ]
  },
  {
   "cell_type": "code",
   "execution_count": 6,
   "id": "07e3b409",
   "metadata": {},
   "outputs": [
    {
     "data": {
      "text/plain": [
       "(1977, 7)"
      ]
     },
     "execution_count": 6,
     "metadata": {},
     "output_type": "execute_result"
    }
   ],
   "source": [
    "# taking a look at the shape of the \"Sacramento\" data\n",
    "smf_df.shape"
   ]
  },
  {
   "cell_type": "code",
   "execution_count": 7,
   "id": "d5cb896b",
   "metadata": {},
   "outputs": [
    {
     "name": "stdout",
     "output_type": "stream",
     "text": [
      "<class 'pandas.core.frame.DataFrame'>\n",
      "Int64Index: 1977 entries, 6506228 to 6508204\n",
      "Data columns (total 7 columns):\n",
      " #   Column                         Non-Null Count  Dtype  \n",
      "---  ------                         --------------  -----  \n",
      " 0   dt                             1977 non-null   object \n",
      " 1   AverageTemperature             1977 non-null   float64\n",
      " 2   AverageTemperatureUncertainty  1977 non-null   float64\n",
      " 3   City                           1977 non-null   object \n",
      " 4   Country                        1977 non-null   object \n",
      " 5   Latitude                       1977 non-null   object \n",
      " 6   Longitude                      1977 non-null   object \n",
      "dtypes: float64(2), object(5)\n",
      "memory usage: 123.6+ KB\n"
     ]
    }
   ],
   "source": [
    "# taking a look at the info and Dtype of the \"Sacramento\" data\n",
    "smf_df.info()"
   ]
  },
  {
   "cell_type": "code",
   "execution_count": 8,
   "id": "616b33fc",
   "metadata": {},
   "outputs": [],
   "source": [
    "smf_df.rename(columns={'AverageTemperature':'avg_temp', 'dt':'date', 'City': 'city', 'Country':'country'}, inplace=True)"
   ]
  },
  {
   "cell_type": "code",
   "execution_count": 9,
   "id": "960a8beb",
   "metadata": {},
   "outputs": [],
   "source": [
    "smf_df = smf_df.drop(['AverageTemperatureUncertainty', 'Latitude', 'Longitude'], axis = 1)"
   ]
  },
  {
   "cell_type": "code",
   "execution_count": 10,
   "id": "056bddbe",
   "metadata": {},
   "outputs": [
    {
     "data": {
      "text/html": [
       "<div>\n",
       "<style scoped>\n",
       "    .dataframe tbody tr th:only-of-type {\n",
       "        vertical-align: middle;\n",
       "    }\n",
       "\n",
       "    .dataframe tbody tr th {\n",
       "        vertical-align: top;\n",
       "    }\n",
       "\n",
       "    .dataframe thead th {\n",
       "        text-align: right;\n",
       "    }\n",
       "</style>\n",
       "<table border=\"1\" class=\"dataframe\">\n",
       "  <thead>\n",
       "    <tr style=\"text-align: right;\">\n",
       "      <th></th>\n",
       "      <th>date</th>\n",
       "      <th>avg_temp</th>\n",
       "      <th>city</th>\n",
       "      <th>country</th>\n",
       "    </tr>\n",
       "  </thead>\n",
       "  <tbody>\n",
       "    <tr>\n",
       "      <th>6508200</th>\n",
       "      <td>2013-05-01</td>\n",
       "      <td>17.434</td>\n",
       "      <td>Sacramento</td>\n",
       "      <td>United States</td>\n",
       "    </tr>\n",
       "    <tr>\n",
       "      <th>6508201</th>\n",
       "      <td>2013-06-01</td>\n",
       "      <td>19.759</td>\n",
       "      <td>Sacramento</td>\n",
       "      <td>United States</td>\n",
       "    </tr>\n",
       "    <tr>\n",
       "      <th>6508202</th>\n",
       "      <td>2013-07-01</td>\n",
       "      <td>20.657</td>\n",
       "      <td>Sacramento</td>\n",
       "      <td>United States</td>\n",
       "    </tr>\n",
       "    <tr>\n",
       "      <th>6508203</th>\n",
       "      <td>2013-08-01</td>\n",
       "      <td>19.731</td>\n",
       "      <td>Sacramento</td>\n",
       "      <td>United States</td>\n",
       "    </tr>\n",
       "    <tr>\n",
       "      <th>6508204</th>\n",
       "      <td>2013-09-01</td>\n",
       "      <td>20.471</td>\n",
       "      <td>Sacramento</td>\n",
       "      <td>United States</td>\n",
       "    </tr>\n",
       "  </tbody>\n",
       "</table>\n",
       "</div>"
      ],
      "text/plain": [
       "               date  avg_temp        city        country\n",
       "6508200  2013-05-01    17.434  Sacramento  United States\n",
       "6508201  2013-06-01    19.759  Sacramento  United States\n",
       "6508202  2013-07-01    20.657  Sacramento  United States\n",
       "6508203  2013-08-01    19.731  Sacramento  United States\n",
       "6508204  2013-09-01    20.471  Sacramento  United States"
      ]
     },
     "execution_count": 10,
     "metadata": {},
     "output_type": "execute_result"
    }
   ],
   "source": [
    "smf_df.tail()"
   ]
  },
  {
   "cell_type": "code",
   "execution_count": 12,
   "id": "9c251394",
   "metadata": {},
   "outputs": [],
   "source": [
    "smf_df.index = pd.to_datetime(smf_df.index)"
   ]
  },
  {
   "cell_type": "code",
   "execution_count": 13,
   "id": "4aae8285",
   "metadata": {},
   "outputs": [
    {
     "data": {
      "text/html": [
       "<div>\n",
       "<style scoped>\n",
       "    .dataframe tbody tr th:only-of-type {\n",
       "        vertical-align: middle;\n",
       "    }\n",
       "\n",
       "    .dataframe tbody tr th {\n",
       "        vertical-align: top;\n",
       "    }\n",
       "\n",
       "    .dataframe thead th {\n",
       "        text-align: right;\n",
       "    }\n",
       "</style>\n",
       "<table border=\"1\" class=\"dataframe\">\n",
       "  <thead>\n",
       "    <tr style=\"text-align: right;\">\n",
       "      <th></th>\n",
       "      <th>date</th>\n",
       "      <th>avg_temp</th>\n",
       "      <th>city</th>\n",
       "      <th>country</th>\n",
       "    </tr>\n",
       "  </thead>\n",
       "  <tbody>\n",
       "    <tr>\n",
       "      <th>1970-01-01 00:00:00.006506228</th>\n",
       "      <td>1849-01-01</td>\n",
       "      <td>8.092</td>\n",
       "      <td>Sacramento</td>\n",
       "      <td>United States</td>\n",
       "    </tr>\n",
       "    <tr>\n",
       "      <th>1970-01-01 00:00:00.006506229</th>\n",
       "      <td>1849-02-01</td>\n",
       "      <td>9.508</td>\n",
       "      <td>Sacramento</td>\n",
       "      <td>United States</td>\n",
       "    </tr>\n",
       "    <tr>\n",
       "      <th>1970-01-01 00:00:00.006506230</th>\n",
       "      <td>1849-03-01</td>\n",
       "      <td>11.701</td>\n",
       "      <td>Sacramento</td>\n",
       "      <td>United States</td>\n",
       "    </tr>\n",
       "    <tr>\n",
       "      <th>1970-01-01 00:00:00.006506231</th>\n",
       "      <td>1849-04-01</td>\n",
       "      <td>13.102</td>\n",
       "      <td>Sacramento</td>\n",
       "      <td>United States</td>\n",
       "    </tr>\n",
       "    <tr>\n",
       "      <th>1970-01-01 00:00:00.006506232</th>\n",
       "      <td>1849-05-01</td>\n",
       "      <td>14.045</td>\n",
       "      <td>Sacramento</td>\n",
       "      <td>United States</td>\n",
       "    </tr>\n",
       "  </tbody>\n",
       "</table>\n",
       "</div>"
      ],
      "text/plain": [
       "                                     date  avg_temp        city        country\n",
       "1970-01-01 00:00:00.006506228  1849-01-01     8.092  Sacramento  United States\n",
       "1970-01-01 00:00:00.006506229  1849-02-01     9.508  Sacramento  United States\n",
       "1970-01-01 00:00:00.006506230  1849-03-01    11.701  Sacramento  United States\n",
       "1970-01-01 00:00:00.006506231  1849-04-01    13.102  Sacramento  United States\n",
       "1970-01-01 00:00:00.006506232  1849-05-01    14.045  Sacramento  United States"
      ]
     },
     "execution_count": 13,
     "metadata": {},
     "output_type": "execute_result"
    }
   ],
   "source": [
    "smf_df.head()"
   ]
  },
  {
   "cell_type": "code",
   "execution_count": null,
   "id": "60908488",
   "metadata": {},
   "outputs": [],
   "source": []
  }
 ],
 "metadata": {
  "kernelspec": {
   "display_name": "Python 3",
   "language": "python",
   "name": "python3"
  },
  "language_info": {
   "codemirror_mode": {
    "name": "ipython",
    "version": 3
   },
   "file_extension": ".py",
   "mimetype": "text/x-python",
   "name": "python",
   "nbconvert_exporter": "python",
   "pygments_lexer": "ipython3",
   "version": "3.8.8"
  }
 },
 "nbformat": 4,
 "nbformat_minor": 5
}
