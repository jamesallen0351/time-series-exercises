{
 "cells": [
  {
   "cell_type": "markdown",
   "id": "931eff5b",
   "metadata": {},
   "source": [
    "# Prepare Exercises\n",
    "\n",
    "### The end result of this exercise should be a file named prepare.py.\n",
    "\n",
    "## Using your store items data:\n",
    "\n",
    "- Convert date column to datetime format.\n",
    "- Plot the distribution of sale_amount and item_price.\n",
    "- Set the index to be the datetime variable.\n",
    "- Add a 'month' and 'day of week' column to your dataframe.\n",
    "- Add a column to your dataframe, sales_total, which is a derived from sale_amount (total items) and item_price.\n",
    "- Make sure all the work that you have done above is reproducible. That is, you should put the code above into separate functions and be able to re-run the functions and get the same results."
   ]
  },
  {
   "cell_type": "code",
   "execution_count": 7,
   "id": "b040188d",
   "metadata": {},
   "outputs": [],
   "source": [
    "# imports\n",
    "import pandas as pd\n",
    "from datetime import timedelta, datetime\n",
    "import numpy as np\n",
    "import matplotlib.pyplot as plt\n",
    "\n",
    "import warnings\n",
    "warnings.filterwarnings(\"ignore\")\n",
    "\n",
    "from acquire import get_store_data, duetschland_macht"
   ]
  },
  {
   "cell_type": "code",
   "execution_count": 23,
   "id": "a3e9cf25",
   "metadata": {},
   "outputs": [],
   "source": [
    "# getting the store data from my stored .csv\n",
    "df = pd.read_csv('complete_store_data.csv')"
   ]
  },
  {
   "cell_type": "code",
   "execution_count": 24,
   "id": "37770da9",
   "metadata": {},
   "outputs": [
    {
     "data": {
      "text/html": [
       "<div>\n",
       "<style scoped>\n",
       "    .dataframe tbody tr th:only-of-type {\n",
       "        vertical-align: middle;\n",
       "    }\n",
       "\n",
       "    .dataframe tbody tr th {\n",
       "        vertical-align: top;\n",
       "    }\n",
       "\n",
       "    .dataframe thead th {\n",
       "        text-align: right;\n",
       "    }\n",
       "</style>\n",
       "<table border=\"1\" class=\"dataframe\">\n",
       "  <thead>\n",
       "    <tr style=\"text-align: right;\">\n",
       "      <th></th>\n",
       "      <th>key_0</th>\n",
       "      <th>item_brand</th>\n",
       "      <th>item_id</th>\n",
       "      <th>item_name</th>\n",
       "      <th>item_price</th>\n",
       "      <th>item_upc12</th>\n",
       "      <th>item_upc14</th>\n",
       "      <th>item</th>\n",
       "      <th>sale_amount</th>\n",
       "      <th>sale_date</th>\n",
       "      <th>sale_id</th>\n",
       "      <th>store</th>\n",
       "      <th>store_address</th>\n",
       "      <th>store_city</th>\n",
       "      <th>store_id</th>\n",
       "      <th>store_state</th>\n",
       "      <th>store_zipcode</th>\n",
       "    </tr>\n",
       "  </thead>\n",
       "  <tbody>\n",
       "    <tr>\n",
       "      <th>0</th>\n",
       "      <td>1</td>\n",
       "      <td>Riceland</td>\n",
       "      <td>1</td>\n",
       "      <td>Riceland American Jazmine Rice</td>\n",
       "      <td>0.84</td>\n",
       "      <td>35200264013</td>\n",
       "      <td>35200264013</td>\n",
       "      <td>1</td>\n",
       "      <td>13.0</td>\n",
       "      <td>Tue, 01 Jan 2013 00:00:00 GMT</td>\n",
       "      <td>1</td>\n",
       "      <td>1</td>\n",
       "      <td>12125 Alamo Ranch Pkwy</td>\n",
       "      <td>San Antonio</td>\n",
       "      <td>1</td>\n",
       "      <td>TX</td>\n",
       "      <td>78253</td>\n",
       "    </tr>\n",
       "    <tr>\n",
       "      <th>1</th>\n",
       "      <td>1</td>\n",
       "      <td>Riceland</td>\n",
       "      <td>1</td>\n",
       "      <td>Riceland American Jazmine Rice</td>\n",
       "      <td>0.84</td>\n",
       "      <td>35200264013</td>\n",
       "      <td>35200264013</td>\n",
       "      <td>1</td>\n",
       "      <td>11.0</td>\n",
       "      <td>Wed, 02 Jan 2013 00:00:00 GMT</td>\n",
       "      <td>2</td>\n",
       "      <td>1</td>\n",
       "      <td>12125 Alamo Ranch Pkwy</td>\n",
       "      <td>San Antonio</td>\n",
       "      <td>1</td>\n",
       "      <td>TX</td>\n",
       "      <td>78253</td>\n",
       "    </tr>\n",
       "    <tr>\n",
       "      <th>2</th>\n",
       "      <td>1</td>\n",
       "      <td>Riceland</td>\n",
       "      <td>1</td>\n",
       "      <td>Riceland American Jazmine Rice</td>\n",
       "      <td>0.84</td>\n",
       "      <td>35200264013</td>\n",
       "      <td>35200264013</td>\n",
       "      <td>1</td>\n",
       "      <td>14.0</td>\n",
       "      <td>Thu, 03 Jan 2013 00:00:00 GMT</td>\n",
       "      <td>3</td>\n",
       "      <td>1</td>\n",
       "      <td>12125 Alamo Ranch Pkwy</td>\n",
       "      <td>San Antonio</td>\n",
       "      <td>1</td>\n",
       "      <td>TX</td>\n",
       "      <td>78253</td>\n",
       "    </tr>\n",
       "    <tr>\n",
       "      <th>3</th>\n",
       "      <td>1</td>\n",
       "      <td>Riceland</td>\n",
       "      <td>1</td>\n",
       "      <td>Riceland American Jazmine Rice</td>\n",
       "      <td>0.84</td>\n",
       "      <td>35200264013</td>\n",
       "      <td>35200264013</td>\n",
       "      <td>1</td>\n",
       "      <td>13.0</td>\n",
       "      <td>Fri, 04 Jan 2013 00:00:00 GMT</td>\n",
       "      <td>4</td>\n",
       "      <td>1</td>\n",
       "      <td>12125 Alamo Ranch Pkwy</td>\n",
       "      <td>San Antonio</td>\n",
       "      <td>1</td>\n",
       "      <td>TX</td>\n",
       "      <td>78253</td>\n",
       "    </tr>\n",
       "    <tr>\n",
       "      <th>4</th>\n",
       "      <td>1</td>\n",
       "      <td>Riceland</td>\n",
       "      <td>1</td>\n",
       "      <td>Riceland American Jazmine Rice</td>\n",
       "      <td>0.84</td>\n",
       "      <td>35200264013</td>\n",
       "      <td>35200264013</td>\n",
       "      <td>1</td>\n",
       "      <td>10.0</td>\n",
       "      <td>Sat, 05 Jan 2013 00:00:00 GMT</td>\n",
       "      <td>5</td>\n",
       "      <td>1</td>\n",
       "      <td>12125 Alamo Ranch Pkwy</td>\n",
       "      <td>San Antonio</td>\n",
       "      <td>1</td>\n",
       "      <td>TX</td>\n",
       "      <td>78253</td>\n",
       "    </tr>\n",
       "  </tbody>\n",
       "</table>\n",
       "</div>"
      ],
      "text/plain": [
       "   key_0 item_brand  item_id                       item_name  item_price  \\\n",
       "0      1   Riceland        1  Riceland American Jazmine Rice        0.84   \n",
       "1      1   Riceland        1  Riceland American Jazmine Rice        0.84   \n",
       "2      1   Riceland        1  Riceland American Jazmine Rice        0.84   \n",
       "3      1   Riceland        1  Riceland American Jazmine Rice        0.84   \n",
       "4      1   Riceland        1  Riceland American Jazmine Rice        0.84   \n",
       "\n",
       "    item_upc12   item_upc14  item  sale_amount                      sale_date  \\\n",
       "0  35200264013  35200264013     1         13.0  Tue, 01 Jan 2013 00:00:00 GMT   \n",
       "1  35200264013  35200264013     1         11.0  Wed, 02 Jan 2013 00:00:00 GMT   \n",
       "2  35200264013  35200264013     1         14.0  Thu, 03 Jan 2013 00:00:00 GMT   \n",
       "3  35200264013  35200264013     1         13.0  Fri, 04 Jan 2013 00:00:00 GMT   \n",
       "4  35200264013  35200264013     1         10.0  Sat, 05 Jan 2013 00:00:00 GMT   \n",
       "\n",
       "   sale_id  store           store_address   store_city  store_id store_state  \\\n",
       "0        1      1  12125 Alamo Ranch Pkwy  San Antonio         1          TX   \n",
       "1        2      1  12125 Alamo Ranch Pkwy  San Antonio         1          TX   \n",
       "2        3      1  12125 Alamo Ranch Pkwy  San Antonio         1          TX   \n",
       "3        4      1  12125 Alamo Ranch Pkwy  San Antonio         1          TX   \n",
       "4        5      1  12125 Alamo Ranch Pkwy  San Antonio         1          TX   \n",
       "\n",
       "   store_zipcode  \n",
       "0          78253  \n",
       "1          78253  \n",
       "2          78253  \n",
       "3          78253  \n",
       "4          78253  "
      ]
     },
     "execution_count": 24,
     "metadata": {},
     "output_type": "execute_result"
    }
   ],
   "source": [
    "df.head() # check_yo_head"
   ]
  },
  {
   "cell_type": "code",
   "execution_count": 25,
   "id": "9fdcc53e",
   "metadata": {},
   "outputs": [],
   "source": [
    "# dropping columns that are not needed\n",
    "df = df.drop(columns=['item', 'store'])"
   ]
  },
  {
   "cell_type": "code",
   "execution_count": 26,
   "id": "2fd95641",
   "metadata": {},
   "outputs": [],
   "source": [
    "# Convert date column to datetime format.\n",
    "df.sale_date = pd.to_datetime(df.sale_date)"
   ]
  },
  {
   "cell_type": "code",
   "execution_count": 27,
   "id": "3f903620",
   "metadata": {},
   "outputs": [],
   "source": [
    "# this one uses a lamba function to remove all the stuff after the sale_date\n",
    "# df_store.sale_date = pd.to_datetime(df_store.sale_date.apply(lambda x: x[:-13]))"
   ]
  },
  {
   "cell_type": "code",
   "execution_count": 28,
   "id": "d5562205",
   "metadata": {},
   "outputs": [
    {
     "data": {
      "text/html": [
       "<div>\n",
       "<style scoped>\n",
       "    .dataframe tbody tr th:only-of-type {\n",
       "        vertical-align: middle;\n",
       "    }\n",
       "\n",
       "    .dataframe tbody tr th {\n",
       "        vertical-align: top;\n",
       "    }\n",
       "\n",
       "    .dataframe thead th {\n",
       "        text-align: right;\n",
       "    }\n",
       "</style>\n",
       "<table border=\"1\" class=\"dataframe\">\n",
       "  <thead>\n",
       "    <tr style=\"text-align: right;\">\n",
       "      <th></th>\n",
       "      <th>key_0</th>\n",
       "      <th>item_brand</th>\n",
       "      <th>item_id</th>\n",
       "      <th>item_name</th>\n",
       "      <th>item_price</th>\n",
       "      <th>item_upc12</th>\n",
       "      <th>item_upc14</th>\n",
       "      <th>sale_amount</th>\n",
       "      <th>sale_date</th>\n",
       "      <th>sale_id</th>\n",
       "      <th>store_address</th>\n",
       "      <th>store_city</th>\n",
       "      <th>store_id</th>\n",
       "      <th>store_state</th>\n",
       "      <th>store_zipcode</th>\n",
       "    </tr>\n",
       "  </thead>\n",
       "  <tbody>\n",
       "    <tr>\n",
       "      <th>0</th>\n",
       "      <td>1</td>\n",
       "      <td>Riceland</td>\n",
       "      <td>1</td>\n",
       "      <td>Riceland American Jazmine Rice</td>\n",
       "      <td>0.84</td>\n",
       "      <td>35200264013</td>\n",
       "      <td>35200264013</td>\n",
       "      <td>13.0</td>\n",
       "      <td>2013-01-01 00:00:00+00:00</td>\n",
       "      <td>1</td>\n",
       "      <td>12125 Alamo Ranch Pkwy</td>\n",
       "      <td>San Antonio</td>\n",
       "      <td>1</td>\n",
       "      <td>TX</td>\n",
       "      <td>78253</td>\n",
       "    </tr>\n",
       "    <tr>\n",
       "      <th>1</th>\n",
       "      <td>1</td>\n",
       "      <td>Riceland</td>\n",
       "      <td>1</td>\n",
       "      <td>Riceland American Jazmine Rice</td>\n",
       "      <td>0.84</td>\n",
       "      <td>35200264013</td>\n",
       "      <td>35200264013</td>\n",
       "      <td>11.0</td>\n",
       "      <td>2013-01-02 00:00:00+00:00</td>\n",
       "      <td>2</td>\n",
       "      <td>12125 Alamo Ranch Pkwy</td>\n",
       "      <td>San Antonio</td>\n",
       "      <td>1</td>\n",
       "      <td>TX</td>\n",
       "      <td>78253</td>\n",
       "    </tr>\n",
       "    <tr>\n",
       "      <th>2</th>\n",
       "      <td>1</td>\n",
       "      <td>Riceland</td>\n",
       "      <td>1</td>\n",
       "      <td>Riceland American Jazmine Rice</td>\n",
       "      <td>0.84</td>\n",
       "      <td>35200264013</td>\n",
       "      <td>35200264013</td>\n",
       "      <td>14.0</td>\n",
       "      <td>2013-01-03 00:00:00+00:00</td>\n",
       "      <td>3</td>\n",
       "      <td>12125 Alamo Ranch Pkwy</td>\n",
       "      <td>San Antonio</td>\n",
       "      <td>1</td>\n",
       "      <td>TX</td>\n",
       "      <td>78253</td>\n",
       "    </tr>\n",
       "    <tr>\n",
       "      <th>3</th>\n",
       "      <td>1</td>\n",
       "      <td>Riceland</td>\n",
       "      <td>1</td>\n",
       "      <td>Riceland American Jazmine Rice</td>\n",
       "      <td>0.84</td>\n",
       "      <td>35200264013</td>\n",
       "      <td>35200264013</td>\n",
       "      <td>13.0</td>\n",
       "      <td>2013-01-04 00:00:00+00:00</td>\n",
       "      <td>4</td>\n",
       "      <td>12125 Alamo Ranch Pkwy</td>\n",
       "      <td>San Antonio</td>\n",
       "      <td>1</td>\n",
       "      <td>TX</td>\n",
       "      <td>78253</td>\n",
       "    </tr>\n",
       "    <tr>\n",
       "      <th>4</th>\n",
       "      <td>1</td>\n",
       "      <td>Riceland</td>\n",
       "      <td>1</td>\n",
       "      <td>Riceland American Jazmine Rice</td>\n",
       "      <td>0.84</td>\n",
       "      <td>35200264013</td>\n",
       "      <td>35200264013</td>\n",
       "      <td>10.0</td>\n",
       "      <td>2013-01-05 00:00:00+00:00</td>\n",
       "      <td>5</td>\n",
       "      <td>12125 Alamo Ranch Pkwy</td>\n",
       "      <td>San Antonio</td>\n",
       "      <td>1</td>\n",
       "      <td>TX</td>\n",
       "      <td>78253</td>\n",
       "    </tr>\n",
       "  </tbody>\n",
       "</table>\n",
       "</div>"
      ],
      "text/plain": [
       "   key_0 item_brand  item_id                       item_name  item_price  \\\n",
       "0      1   Riceland        1  Riceland American Jazmine Rice        0.84   \n",
       "1      1   Riceland        1  Riceland American Jazmine Rice        0.84   \n",
       "2      1   Riceland        1  Riceland American Jazmine Rice        0.84   \n",
       "3      1   Riceland        1  Riceland American Jazmine Rice        0.84   \n",
       "4      1   Riceland        1  Riceland American Jazmine Rice        0.84   \n",
       "\n",
       "    item_upc12   item_upc14  sale_amount                 sale_date  sale_id  \\\n",
       "0  35200264013  35200264013         13.0 2013-01-01 00:00:00+00:00        1   \n",
       "1  35200264013  35200264013         11.0 2013-01-02 00:00:00+00:00        2   \n",
       "2  35200264013  35200264013         14.0 2013-01-03 00:00:00+00:00        3   \n",
       "3  35200264013  35200264013         13.0 2013-01-04 00:00:00+00:00        4   \n",
       "4  35200264013  35200264013         10.0 2013-01-05 00:00:00+00:00        5   \n",
       "\n",
       "            store_address   store_city  store_id store_state  store_zipcode  \n",
       "0  12125 Alamo Ranch Pkwy  San Antonio         1          TX          78253  \n",
       "1  12125 Alamo Ranch Pkwy  San Antonio         1          TX          78253  \n",
       "2  12125 Alamo Ranch Pkwy  San Antonio         1          TX          78253  \n",
       "3  12125 Alamo Ranch Pkwy  San Antonio         1          TX          78253  \n",
       "4  12125 Alamo Ranch Pkwy  San Antonio         1          TX          78253  "
      ]
     },
     "execution_count": 28,
     "metadata": {},
     "output_type": "execute_result"
    }
   ],
   "source": [
    "df.head() # check_yo_head"
   ]
  },
  {
   "cell_type": "code",
   "execution_count": 29,
   "id": "b51ceca1",
   "metadata": {},
   "outputs": [
    {
     "data": {
      "text/plain": [
       "<AxesSubplot:xlabel='sale_amount'>"
      ]
     },
     "execution_count": 29,
     "metadata": {},
     "output_type": "execute_result"
    },
    {
     "data": {
      "image/png": "[encoded data removed]",
      "text/plain": [
       "<Figure size 432x288 with 1 Axes>"
      ]
     },
     "metadata": {
      "needs_background": "light"
     },
     "output_type": "display_data"
    }
   ],
   "source": [
    "# Plot the distribution of sale_amount and item_price.\n",
    "df.plot(x='sale_amount', y='item_price')"
   ]
  },
  {
   "cell_type": "code",
   "execution_count": 30,
   "id": "0c534966",
   "metadata": {},
   "outputs": [
    {
     "data": {
      "text/plain": [
       "Text(0, 0.5, 'Sale Amount - Items Sold')"
      ]
     },
     "execution_count": 30,
     "metadata": {},
     "output_type": "execute_result"
    },
    {
     "data": {
      "image/png": "[encoded data removed]",
      "text/plain": [
       "<Figure size 432x288 with 1 Axes>"
      ]
     },
     "metadata": {
      "needs_background": "light"
     },
     "output_type": "display_data"
    }
   ],
   "source": [
    "# scatter plot of sale amount and item price\n",
    "plt.scatter(y=df.sale_amount, x=df.item_price)\n",
    "plt.title('Sale Amount vs. Item Price')\n",
    "plt.xlabel('Item Price - Cost to Buy')\n",
    "plt.ylabel('Sale Amount - Items Sold')"
   ]
  },
  {
   "cell_type": "code",
   "execution_count": 31,
   "id": "cf56d6d8",
   "metadata": {},
   "outputs": [
    {
     "data": {
      "text/plain": [
       "<AxesSubplot:title={'center':'Distribution of Sale Amount'}, ylabel='Frequency'>"
      ]
     },
     "execution_count": 31,
     "metadata": {},
     "output_type": "execute_result"
    },
    {
     "data": {
      "image/png": "[encoded data removed]",
      "text/plain": [
       "<Figure size 432x288 with 1 Axes>"
      ]
     },
     "metadata": {
      "needs_background": "light"
     },
     "output_type": "display_data"
    }
   ],
   "source": [
    "# histogram of distribution of 'sale_amount'\n",
    "df.sale_amount.plot.hist(title='Distribution of Sale Amount')"
   ]
  },
  {
   "cell_type": "code",
   "execution_count": 32,
   "id": "1988f94d",
   "metadata": {
    "scrolled": true
   },
   "outputs": [
    {
     "data": {
      "text/plain": [
       "<AxesSubplot:title={'center':'Distribution of Item Price'}, ylabel='Frequency'>"
      ]
     },
     "execution_count": 32,
     "metadata": {},
     "output_type": "execute_result"
    },
    {
     "data": {
      "image/png": "[encoded data removed]",
      "text/plain": [
       "<Figure size 432x288 with 1 Axes>"
      ]
     },
     "metadata": {
      "needs_background": "light"
     },
     "output_type": "display_data"
    }
   ],
   "source": [
    "# histogram of distribution of 'item_price'\n",
    "df.item_price.plot.hist(title='Distribution of Item Price')"
   ]
  },
  {
   "cell_type": "code",
   "execution_count": 33,
   "id": "674856e9",
   "metadata": {},
   "outputs": [],
   "source": [
    "# Set the index to be the datetime variable.\n",
    "df = df.set_index(['sale_date']).sort_index()"
   ]
  },
  {
   "cell_type": "code",
   "execution_count": 34,
   "id": "b83ed168",
   "metadata": {},
   "outputs": [
    {
     "data": {
      "text/html": [
       "<div>\n",
       "<style scoped>\n",
       "    .dataframe tbody tr th:only-of-type {\n",
       "        vertical-align: middle;\n",
       "    }\n",
       "\n",
       "    .dataframe tbody tr th {\n",
       "        vertical-align: top;\n",
       "    }\n",
       "\n",
       "    .dataframe thead th {\n",
       "        text-align: right;\n",
       "    }\n",
       "</style>\n",
       "<table border=\"1\" class=\"dataframe\">\n",
       "  <thead>\n",
       "    <tr style=\"text-align: right;\">\n",
       "      <th></th>\n",
       "      <th>key_0</th>\n",
       "      <th>item_brand</th>\n",
       "      <th>item_id</th>\n",
       "      <th>item_name</th>\n",
       "      <th>item_price</th>\n",
       "      <th>item_upc12</th>\n",
       "      <th>item_upc14</th>\n",
       "      <th>sale_amount</th>\n",
       "      <th>sale_id</th>\n",
       "      <th>store_address</th>\n",
       "      <th>store_city</th>\n",
       "      <th>store_id</th>\n",
       "      <th>store_state</th>\n",
       "      <th>store_zipcode</th>\n",
       "    </tr>\n",
       "    <tr>\n",
       "      <th>sale_date</th>\n",
       "      <th></th>\n",
       "      <th></th>\n",
       "      <th></th>\n",
       "      <th></th>\n",
       "      <th></th>\n",
       "      <th></th>\n",
       "      <th></th>\n",
       "      <th></th>\n",
       "      <th></th>\n",
       "      <th></th>\n",
       "      <th></th>\n",
       "      <th></th>\n",
       "      <th></th>\n",
       "      <th></th>\n",
       "    </tr>\n",
       "  </thead>\n",
       "  <tbody>\n",
       "    <tr>\n",
       "      <th>2013-01-01 00:00:00+00:00</th>\n",
       "      <td>1</td>\n",
       "      <td>Riceland</td>\n",
       "      <td>1</td>\n",
       "      <td>Riceland American Jazmine Rice</td>\n",
       "      <td>0.84</td>\n",
       "      <td>35200264013</td>\n",
       "      <td>35200264013</td>\n",
       "      <td>13.0</td>\n",
       "      <td>1</td>\n",
       "      <td>12125 Alamo Ranch Pkwy</td>\n",
       "      <td>San Antonio</td>\n",
       "      <td>1</td>\n",
       "      <td>TX</td>\n",
       "      <td>78253</td>\n",
       "    </tr>\n",
       "    <tr>\n",
       "      <th>2013-01-01 00:00:00+00:00</th>\n",
       "      <td>12</td>\n",
       "      <td>Mueller</td>\n",
       "      <td>12</td>\n",
       "      <td>Mueller Sport Care Basic Support Level Medium ...</td>\n",
       "      <td>8.40</td>\n",
       "      <td>74676640211</td>\n",
       "      <td>74676640211</td>\n",
       "      <td>26.0</td>\n",
       "      <td>211817</td>\n",
       "      <td>12018 Perrin Beitel Rd</td>\n",
       "      <td>San Antonio</td>\n",
       "      <td>7</td>\n",
       "      <td>TX</td>\n",
       "      <td>78217</td>\n",
       "    </tr>\n",
       "    <tr>\n",
       "      <th>2013-01-01 00:00:00+00:00</th>\n",
       "      <td>46</td>\n",
       "      <td>Mama Marys</td>\n",
       "      <td>46</td>\n",
       "      <td>Pizza Sauce</td>\n",
       "      <td>4.65</td>\n",
       "      <td>35457770664</td>\n",
       "      <td>35457770664</td>\n",
       "      <td>27.0</td>\n",
       "      <td>832657</td>\n",
       "      <td>12018 Perrin Beitel Rd</td>\n",
       "      <td>San Antonio</td>\n",
       "      <td>7</td>\n",
       "      <td>TX</td>\n",
       "      <td>78217</td>\n",
       "    </tr>\n",
       "    <tr>\n",
       "      <th>2013-01-01 00:00:00+00:00</th>\n",
       "      <td>12</td>\n",
       "      <td>Mueller</td>\n",
       "      <td>12</td>\n",
       "      <td>Mueller Sport Care Basic Support Level Medium ...</td>\n",
       "      <td>8.40</td>\n",
       "      <td>74676640211</td>\n",
       "      <td>74676640211</td>\n",
       "      <td>54.0</td>\n",
       "      <td>213643</td>\n",
       "      <td>15000 San Pedro Ave</td>\n",
       "      <td>San Antonio</td>\n",
       "      <td>8</td>\n",
       "      <td>TX</td>\n",
       "      <td>78232</td>\n",
       "    </tr>\n",
       "    <tr>\n",
       "      <th>2013-01-01 00:00:00+00:00</th>\n",
       "      <td>12</td>\n",
       "      <td>Mueller</td>\n",
       "      <td>12</td>\n",
       "      <td>Mueller Sport Care Basic Support Level Medium ...</td>\n",
       "      <td>8.40</td>\n",
       "      <td>74676640211</td>\n",
       "      <td>74676640211</td>\n",
       "      <td>35.0</td>\n",
       "      <td>215469</td>\n",
       "      <td>735 SW Military Dr</td>\n",
       "      <td>San Antonio</td>\n",
       "      <td>9</td>\n",
       "      <td>TX</td>\n",
       "      <td>78221</td>\n",
       "    </tr>\n",
       "  </tbody>\n",
       "</table>\n",
       "</div>"
      ],
      "text/plain": [
       "                           key_0  item_brand  item_id  \\\n",
       "sale_date                                               \n",
       "2013-01-01 00:00:00+00:00      1    Riceland        1   \n",
       "2013-01-01 00:00:00+00:00     12     Mueller       12   \n",
       "2013-01-01 00:00:00+00:00     46  Mama Marys       46   \n",
       "2013-01-01 00:00:00+00:00     12     Mueller       12   \n",
       "2013-01-01 00:00:00+00:00     12     Mueller       12   \n",
       "\n",
       "                                                                   item_name  \\\n",
       "sale_date                                                                      \n",
       "2013-01-01 00:00:00+00:00                     Riceland American Jazmine Rice   \n",
       "2013-01-01 00:00:00+00:00  Mueller Sport Care Basic Support Level Medium ...   \n",
       "2013-01-01 00:00:00+00:00                                        Pizza Sauce   \n",
       "2013-01-01 00:00:00+00:00  Mueller Sport Care Basic Support Level Medium ...   \n",
       "2013-01-01 00:00:00+00:00  Mueller Sport Care Basic Support Level Medium ...   \n",
       "\n",
       "                           item_price   item_upc12   item_upc14  sale_amount  \\\n",
       "sale_date                                                                      \n",
       "2013-01-01 00:00:00+00:00        0.84  35200264013  35200264013         13.0   \n",
       "2013-01-01 00:00:00+00:00        8.40  74676640211  74676640211         26.0   \n",
       "2013-01-01 00:00:00+00:00        4.65  35457770664  35457770664         27.0   \n",
       "2013-01-01 00:00:00+00:00        8.40  74676640211  74676640211         54.0   \n",
       "2013-01-01 00:00:00+00:00        8.40  74676640211  74676640211         35.0   \n",
       "\n",
       "                           sale_id           store_address   store_city  \\\n",
       "sale_date                                                                 \n",
       "2013-01-01 00:00:00+00:00        1  12125 Alamo Ranch Pkwy  San Antonio   \n",
       "2013-01-01 00:00:00+00:00   211817  12018 Perrin Beitel Rd  San Antonio   \n",
       "2013-01-01 00:00:00+00:00   832657  12018 Perrin Beitel Rd  San Antonio   \n",
       "2013-01-01 00:00:00+00:00   213643     15000 San Pedro Ave  San Antonio   \n",
       "2013-01-01 00:00:00+00:00   215469      735 SW Military Dr  San Antonio   \n",
       "\n",
       "                           store_id store_state  store_zipcode  \n",
       "sale_date                                                       \n",
       "2013-01-01 00:00:00+00:00         1          TX          78253  \n",
       "2013-01-01 00:00:00+00:00         7          TX          78217  \n",
       "2013-01-01 00:00:00+00:00         7          TX          78217  \n",
       "2013-01-01 00:00:00+00:00         8          TX          78232  \n",
       "2013-01-01 00:00:00+00:00         9          TX          78221  "
      ]
     },
     "execution_count": 34,
     "metadata": {},
     "output_type": "execute_result"
    }
   ],
   "source": [
    "df.head() # check_yo_head"
   ]
  },
  {
   "cell_type": "code",
   "execution_count": null,
   "id": "9572cb4b",
   "metadata": {},
   "outputs": [],
   "source": [
    "# this one plots both columns at the same time\n",
    "# df_store[['sale_amount', 'item_price']].hist(figsize=(20,10))"
   ]
  },
  {
   "cell_type": "code",
   "execution_count": 35,
   "id": "4426c331",
   "metadata": {},
   "outputs": [],
   "source": [
    "# Add a 'month' and 'day of week' column to your dataframe.\n",
    "df['month'] = df.index.month_name()\n",
    "df['day_of_week'] = df.index.day_name()"
   ]
  },
  {
   "cell_type": "code",
   "execution_count": 36,
   "id": "4afe50d3",
   "metadata": {},
   "outputs": [
    {
     "data": {
      "text/plain": [
       "Index(['key_0', 'item_brand', 'item_id', 'item_name', 'item_price',\n",
       "       'item_upc12', 'item_upc14', 'sale_amount', 'sale_id', 'store_address',\n",
       "       'store_city', 'store_id', 'store_state', 'store_zipcode', 'month',\n",
       "       'day_of_week'],\n",
       "      dtype='object')"
      ]
     },
     "execution_count": 36,
     "metadata": {},
     "output_type": "execute_result"
    }
   ],
   "source": [
    "# taking a look at the new columns \n",
    "df.columns"
   ]
  },
  {
   "cell_type": "code",
   "execution_count": 37,
   "id": "123c40d9",
   "metadata": {},
   "outputs": [
    {
     "data": {
      "text/plain": [
       "sale_date\n",
       "2013-01-01 00:00:00+00:00     January\n",
       "2013-01-01 00:00:00+00:00     January\n",
       "2013-01-01 00:00:00+00:00     January\n",
       "2013-01-01 00:00:00+00:00     January\n",
       "2013-01-01 00:00:00+00:00     January\n",
       "                               ...   \n",
       "2017-12-31 00:00:00+00:00    December\n",
       "2017-12-31 00:00:00+00:00    December\n",
       "2017-12-31 00:00:00+00:00    December\n",
       "2017-12-31 00:00:00+00:00    December\n",
       "2017-12-31 00:00:00+00:00    December\n",
       "Name: month, Length: 913000, dtype: object"
      ]
     },
     "execution_count": 37,
     "metadata": {},
     "output_type": "execute_result"
    }
   ],
   "source": [
    "# looking at month column to verify it shows the month_name\n",
    "df.month"
   ]
  },
  {
   "cell_type": "code",
   "execution_count": 38,
   "id": "9b2a97a4",
   "metadata": {},
   "outputs": [
    {
     "data": {
      "text/plain": [
       "sale_date\n",
       "2013-01-01 00:00:00+00:00    Tuesday\n",
       "2013-01-01 00:00:00+00:00    Tuesday\n",
       "2013-01-01 00:00:00+00:00    Tuesday\n",
       "2013-01-01 00:00:00+00:00    Tuesday\n",
       "2013-01-01 00:00:00+00:00    Tuesday\n",
       "                              ...   \n",
       "2017-12-31 00:00:00+00:00     Sunday\n",
       "2017-12-31 00:00:00+00:00     Sunday\n",
       "2017-12-31 00:00:00+00:00     Sunday\n",
       "2017-12-31 00:00:00+00:00     Sunday\n",
       "2017-12-31 00:00:00+00:00     Sunday\n",
       "Name: day_of_week, Length: 913000, dtype: object"
      ]
     },
     "execution_count": 38,
     "metadata": {},
     "output_type": "execute_result"
    }
   ],
   "source": [
    "# looking at day_of_week column to verify it shows day_name\n",
    "df.day_of_week"
   ]
  },
  {
   "cell_type": "code",
   "execution_count": 39,
   "id": "817a2c56",
   "metadata": {},
   "outputs": [
    {
     "data": {
      "text/html": [
       "<div>\n",
       "<style scoped>\n",
       "    .dataframe tbody tr th:only-of-type {\n",
       "        vertical-align: middle;\n",
       "    }\n",
       "\n",
       "    .dataframe tbody tr th {\n",
       "        vertical-align: top;\n",
       "    }\n",
       "\n",
       "    .dataframe thead th {\n",
       "        text-align: right;\n",
       "    }\n",
       "</style>\n",
       "<table border=\"1\" class=\"dataframe\">\n",
       "  <thead>\n",
       "    <tr style=\"text-align: right;\">\n",
       "      <th></th>\n",
       "      <th>key_0</th>\n",
       "      <th>item_brand</th>\n",
       "      <th>item_id</th>\n",
       "      <th>item_name</th>\n",
       "      <th>item_price</th>\n",
       "      <th>item_upc12</th>\n",
       "      <th>item_upc14</th>\n",
       "      <th>sale_amount</th>\n",
       "      <th>sale_id</th>\n",
       "      <th>store_address</th>\n",
       "      <th>store_city</th>\n",
       "      <th>store_id</th>\n",
       "      <th>store_state</th>\n",
       "      <th>store_zipcode</th>\n",
       "      <th>month</th>\n",
       "      <th>day_of_week</th>\n",
       "    </tr>\n",
       "    <tr>\n",
       "      <th>sale_date</th>\n",
       "      <th></th>\n",
       "      <th></th>\n",
       "      <th></th>\n",
       "      <th></th>\n",
       "      <th></th>\n",
       "      <th></th>\n",
       "      <th></th>\n",
       "      <th></th>\n",
       "      <th></th>\n",
       "      <th></th>\n",
       "      <th></th>\n",
       "      <th></th>\n",
       "      <th></th>\n",
       "      <th></th>\n",
       "      <th></th>\n",
       "      <th></th>\n",
       "    </tr>\n",
       "  </thead>\n",
       "  <tbody>\n",
       "    <tr>\n",
       "      <th>2013-01-01 00:00:00+00:00</th>\n",
       "      <td>1</td>\n",
       "      <td>Riceland</td>\n",
       "      <td>1</td>\n",
       "      <td>Riceland American Jazmine Rice</td>\n",
       "      <td>0.84</td>\n",
       "      <td>35200264013</td>\n",
       "      <td>35200264013</td>\n",
       "      <td>13.0</td>\n",
       "      <td>1</td>\n",
       "      <td>12125 Alamo Ranch Pkwy</td>\n",
       "      <td>San Antonio</td>\n",
       "      <td>1</td>\n",
       "      <td>TX</td>\n",
       "      <td>78253</td>\n",
       "      <td>January</td>\n",
       "      <td>Tuesday</td>\n",
       "    </tr>\n",
       "    <tr>\n",
       "      <th>2013-01-01 00:00:00+00:00</th>\n",
       "      <td>12</td>\n",
       "      <td>Mueller</td>\n",
       "      <td>12</td>\n",
       "      <td>Mueller Sport Care Basic Support Level Medium ...</td>\n",
       "      <td>8.40</td>\n",
       "      <td>74676640211</td>\n",
       "      <td>74676640211</td>\n",
       "      <td>26.0</td>\n",
       "      <td>211817</td>\n",
       "      <td>12018 Perrin Beitel Rd</td>\n",
       "      <td>San Antonio</td>\n",
       "      <td>7</td>\n",
       "      <td>TX</td>\n",
       "      <td>78217</td>\n",
       "      <td>January</td>\n",
       "      <td>Tuesday</td>\n",
       "    </tr>\n",
       "    <tr>\n",
       "      <th>2013-01-01 00:00:00+00:00</th>\n",
       "      <td>46</td>\n",
       "      <td>Mama Marys</td>\n",
       "      <td>46</td>\n",
       "      <td>Pizza Sauce</td>\n",
       "      <td>4.65</td>\n",
       "      <td>35457770664</td>\n",
       "      <td>35457770664</td>\n",
       "      <td>27.0</td>\n",
       "      <td>832657</td>\n",
       "      <td>12018 Perrin Beitel Rd</td>\n",
       "      <td>San Antonio</td>\n",
       "      <td>7</td>\n",
       "      <td>TX</td>\n",
       "      <td>78217</td>\n",
       "      <td>January</td>\n",
       "      <td>Tuesday</td>\n",
       "    </tr>\n",
       "    <tr>\n",
       "      <th>2013-01-01 00:00:00+00:00</th>\n",
       "      <td>12</td>\n",
       "      <td>Mueller</td>\n",
       "      <td>12</td>\n",
       "      <td>Mueller Sport Care Basic Support Level Medium ...</td>\n",
       "      <td>8.40</td>\n",
       "      <td>74676640211</td>\n",
       "      <td>74676640211</td>\n",
       "      <td>54.0</td>\n",
       "      <td>213643</td>\n",
       "      <td>15000 San Pedro Ave</td>\n",
       "      <td>San Antonio</td>\n",
       "      <td>8</td>\n",
       "      <td>TX</td>\n",
       "      <td>78232</td>\n",
       "      <td>January</td>\n",
       "      <td>Tuesday</td>\n",
       "    </tr>\n",
       "    <tr>\n",
       "      <th>2013-01-01 00:00:00+00:00</th>\n",
       "      <td>12</td>\n",
       "      <td>Mueller</td>\n",
       "      <td>12</td>\n",
       "      <td>Mueller Sport Care Basic Support Level Medium ...</td>\n",
       "      <td>8.40</td>\n",
       "      <td>74676640211</td>\n",
       "      <td>74676640211</td>\n",
       "      <td>35.0</td>\n",
       "      <td>215469</td>\n",
       "      <td>735 SW Military Dr</td>\n",
       "      <td>San Antonio</td>\n",
       "      <td>9</td>\n",
       "      <td>TX</td>\n",
       "      <td>78221</td>\n",
       "      <td>January</td>\n",
       "      <td>Tuesday</td>\n",
       "    </tr>\n",
       "  </tbody>\n",
       "</table>\n",
       "</div>"
      ],
      "text/plain": [
       "                           key_0  item_brand  item_id  \\\n",
       "sale_date                                               \n",
       "2013-01-01 00:00:00+00:00      1    Riceland        1   \n",
       "2013-01-01 00:00:00+00:00     12     Mueller       12   \n",
       "2013-01-01 00:00:00+00:00     46  Mama Marys       46   \n",
       "2013-01-01 00:00:00+00:00     12     Mueller       12   \n",
       "2013-01-01 00:00:00+00:00     12     Mueller       12   \n",
       "\n",
       "                                                                   item_name  \\\n",
       "sale_date                                                                      \n",
       "2013-01-01 00:00:00+00:00                     Riceland American Jazmine Rice   \n",
       "2013-01-01 00:00:00+00:00  Mueller Sport Care Basic Support Level Medium ...   \n",
       "2013-01-01 00:00:00+00:00                                        Pizza Sauce   \n",
       "2013-01-01 00:00:00+00:00  Mueller Sport Care Basic Support Level Medium ...   \n",
       "2013-01-01 00:00:00+00:00  Mueller Sport Care Basic Support Level Medium ...   \n",
       "\n",
       "                           item_price   item_upc12   item_upc14  sale_amount  \\\n",
       "sale_date                                                                      \n",
       "2013-01-01 00:00:00+00:00        0.84  35200264013  35200264013         13.0   \n",
       "2013-01-01 00:00:00+00:00        8.40  74676640211  74676640211         26.0   \n",
       "2013-01-01 00:00:00+00:00        4.65  35457770664  35457770664         27.0   \n",
       "2013-01-01 00:00:00+00:00        8.40  74676640211  74676640211         54.0   \n",
       "2013-01-01 00:00:00+00:00        8.40  74676640211  74676640211         35.0   \n",
       "\n",
       "                           sale_id           store_address   store_city  \\\n",
       "sale_date                                                                 \n",
       "2013-01-01 00:00:00+00:00        1  12125 Alamo Ranch Pkwy  San Antonio   \n",
       "2013-01-01 00:00:00+00:00   211817  12018 Perrin Beitel Rd  San Antonio   \n",
       "2013-01-01 00:00:00+00:00   832657  12018 Perrin Beitel Rd  San Antonio   \n",
       "2013-01-01 00:00:00+00:00   213643     15000 San Pedro Ave  San Antonio   \n",
       "2013-01-01 00:00:00+00:00   215469      735 SW Military Dr  San Antonio   \n",
       "\n",
       "                           store_id store_state  store_zipcode    month  \\\n",
       "sale_date                                                                 \n",
       "2013-01-01 00:00:00+00:00         1          TX          78253  January   \n",
       "2013-01-01 00:00:00+00:00         7          TX          78217  January   \n",
       "2013-01-01 00:00:00+00:00         7          TX          78217  January   \n",
       "2013-01-01 00:00:00+00:00         8          TX          78232  January   \n",
       "2013-01-01 00:00:00+00:00         9          TX          78221  January   \n",
       "\n",
       "                          day_of_week  \n",
       "sale_date                              \n",
       "2013-01-01 00:00:00+00:00     Tuesday  \n",
       "2013-01-01 00:00:00+00:00     Tuesday  \n",
       "2013-01-01 00:00:00+00:00     Tuesday  \n",
       "2013-01-01 00:00:00+00:00     Tuesday  \n",
       "2013-01-01 00:00:00+00:00     Tuesday  "
      ]
     },
     "execution_count": 39,
     "metadata": {},
     "output_type": "execute_result"
    }
   ],
   "source": [
    "df.head()"
   ]
  },
  {
   "cell_type": "code",
   "execution_count": 40,
   "id": "860d32cb",
   "metadata": {},
   "outputs": [],
   "source": [
    "# Add a column to your dataframe, sales_total, which is a derived from sale_amount (total items) and item_price.\n",
    "df['sales_total'] = df.sale_amount * df.item_price"
   ]
  },
  {
   "cell_type": "code",
   "execution_count": 41,
   "id": "a8997998",
   "metadata": {},
   "outputs": [
    {
     "data": {
      "text/html": [
       "<div>\n",
       "<style scoped>\n",
       "    .dataframe tbody tr th:only-of-type {\n",
       "        vertical-align: middle;\n",
       "    }\n",
       "\n",
       "    .dataframe tbody tr th {\n",
       "        vertical-align: top;\n",
       "    }\n",
       "\n",
       "    .dataframe thead th {\n",
       "        text-align: right;\n",
       "    }\n",
       "</style>\n",
       "<table border=\"1\" class=\"dataframe\">\n",
       "  <thead>\n",
       "    <tr style=\"text-align: right;\">\n",
       "      <th></th>\n",
       "      <th>key_0</th>\n",
       "      <th>item_brand</th>\n",
       "      <th>item_id</th>\n",
       "      <th>item_name</th>\n",
       "      <th>item_price</th>\n",
       "      <th>item_upc12</th>\n",
       "      <th>item_upc14</th>\n",
       "      <th>sale_amount</th>\n",
       "      <th>sale_id</th>\n",
       "      <th>store_address</th>\n",
       "      <th>store_city</th>\n",
       "      <th>store_id</th>\n",
       "      <th>store_state</th>\n",
       "      <th>store_zipcode</th>\n",
       "      <th>month</th>\n",
       "      <th>day_of_week</th>\n",
       "      <th>sales_total</th>\n",
       "    </tr>\n",
       "    <tr>\n",
       "      <th>sale_date</th>\n",
       "      <th></th>\n",
       "      <th></th>\n",
       "      <th></th>\n",
       "      <th></th>\n",
       "      <th></th>\n",
       "      <th></th>\n",
       "      <th></th>\n",
       "      <th></th>\n",
       "      <th></th>\n",
       "      <th></th>\n",
       "      <th></th>\n",
       "      <th></th>\n",
       "      <th></th>\n",
       "      <th></th>\n",
       "      <th></th>\n",
       "      <th></th>\n",
       "      <th></th>\n",
       "    </tr>\n",
       "  </thead>\n",
       "  <tbody>\n",
       "    <tr>\n",
       "      <th>2013-01-01 00:00:00+00:00</th>\n",
       "      <td>1</td>\n",
       "      <td>Riceland</td>\n",
       "      <td>1</td>\n",
       "      <td>Riceland American Jazmine Rice</td>\n",
       "      <td>0.84</td>\n",
       "      <td>35200264013</td>\n",
       "      <td>35200264013</td>\n",
       "      <td>13.0</td>\n",
       "      <td>1</td>\n",
       "      <td>12125 Alamo Ranch Pkwy</td>\n",
       "      <td>San Antonio</td>\n",
       "      <td>1</td>\n",
       "      <td>TX</td>\n",
       "      <td>78253</td>\n",
       "      <td>January</td>\n",
       "      <td>Tuesday</td>\n",
       "      <td>10.92</td>\n",
       "    </tr>\n",
       "    <tr>\n",
       "      <th>2013-01-01 00:00:00+00:00</th>\n",
       "      <td>12</td>\n",
       "      <td>Mueller</td>\n",
       "      <td>12</td>\n",
       "      <td>Mueller Sport Care Basic Support Level Medium ...</td>\n",
       "      <td>8.40</td>\n",
       "      <td>74676640211</td>\n",
       "      <td>74676640211</td>\n",
       "      <td>26.0</td>\n",
       "      <td>211817</td>\n",
       "      <td>12018 Perrin Beitel Rd</td>\n",
       "      <td>San Antonio</td>\n",
       "      <td>7</td>\n",
       "      <td>TX</td>\n",
       "      <td>78217</td>\n",
       "      <td>January</td>\n",
       "      <td>Tuesday</td>\n",
       "      <td>218.40</td>\n",
       "    </tr>\n",
       "    <tr>\n",
       "      <th>2013-01-01 00:00:00+00:00</th>\n",
       "      <td>46</td>\n",
       "      <td>Mama Marys</td>\n",
       "      <td>46</td>\n",
       "      <td>Pizza Sauce</td>\n",
       "      <td>4.65</td>\n",
       "      <td>35457770664</td>\n",
       "      <td>35457770664</td>\n",
       "      <td>27.0</td>\n",
       "      <td>832657</td>\n",
       "      <td>12018 Perrin Beitel Rd</td>\n",
       "      <td>San Antonio</td>\n",
       "      <td>7</td>\n",
       "      <td>TX</td>\n",
       "      <td>78217</td>\n",
       "      <td>January</td>\n",
       "      <td>Tuesday</td>\n",
       "      <td>125.55</td>\n",
       "    </tr>\n",
       "    <tr>\n",
       "      <th>2013-01-01 00:00:00+00:00</th>\n",
       "      <td>12</td>\n",
       "      <td>Mueller</td>\n",
       "      <td>12</td>\n",
       "      <td>Mueller Sport Care Basic Support Level Medium ...</td>\n",
       "      <td>8.40</td>\n",
       "      <td>74676640211</td>\n",
       "      <td>74676640211</td>\n",
       "      <td>54.0</td>\n",
       "      <td>213643</td>\n",
       "      <td>15000 San Pedro Ave</td>\n",
       "      <td>San Antonio</td>\n",
       "      <td>8</td>\n",
       "      <td>TX</td>\n",
       "      <td>78232</td>\n",
       "      <td>January</td>\n",
       "      <td>Tuesday</td>\n",
       "      <td>453.60</td>\n",
       "    </tr>\n",
       "    <tr>\n",
       "      <th>2013-01-01 00:00:00+00:00</th>\n",
       "      <td>12</td>\n",
       "      <td>Mueller</td>\n",
       "      <td>12</td>\n",
       "      <td>Mueller Sport Care Basic Support Level Medium ...</td>\n",
       "      <td>8.40</td>\n",
       "      <td>74676640211</td>\n",
       "      <td>74676640211</td>\n",
       "      <td>35.0</td>\n",
       "      <td>215469</td>\n",
       "      <td>735 SW Military Dr</td>\n",
       "      <td>San Antonio</td>\n",
       "      <td>9</td>\n",
       "      <td>TX</td>\n",
       "      <td>78221</td>\n",
       "      <td>January</td>\n",
       "      <td>Tuesday</td>\n",
       "      <td>294.00</td>\n",
       "    </tr>\n",
       "  </tbody>\n",
       "</table>\n",
       "</div>"
      ],
      "text/plain": [
       "                           key_0  item_brand  item_id  \\\n",
       "sale_date                                               \n",
       "2013-01-01 00:00:00+00:00      1    Riceland        1   \n",
       "2013-01-01 00:00:00+00:00     12     Mueller       12   \n",
       "2013-01-01 00:00:00+00:00     46  Mama Marys       46   \n",
       "2013-01-01 00:00:00+00:00     12     Mueller       12   \n",
       "2013-01-01 00:00:00+00:00     12     Mueller       12   \n",
       "\n",
       "                                                                   item_name  \\\n",
       "sale_date                                                                      \n",
       "2013-01-01 00:00:00+00:00                     Riceland American Jazmine Rice   \n",
       "2013-01-01 00:00:00+00:00  Mueller Sport Care Basic Support Level Medium ...   \n",
       "2013-01-01 00:00:00+00:00                                        Pizza Sauce   \n",
       "2013-01-01 00:00:00+00:00  Mueller Sport Care Basic Support Level Medium ...   \n",
       "2013-01-01 00:00:00+00:00  Mueller Sport Care Basic Support Level Medium ...   \n",
       "\n",
       "                           item_price   item_upc12   item_upc14  sale_amount  \\\n",
       "sale_date                                                                      \n",
       "2013-01-01 00:00:00+00:00        0.84  35200264013  35200264013         13.0   \n",
       "2013-01-01 00:00:00+00:00        8.40  74676640211  74676640211         26.0   \n",
       "2013-01-01 00:00:00+00:00        4.65  35457770664  35457770664         27.0   \n",
       "2013-01-01 00:00:00+00:00        8.40  74676640211  74676640211         54.0   \n",
       "2013-01-01 00:00:00+00:00        8.40  74676640211  74676640211         35.0   \n",
       "\n",
       "                           sale_id           store_address   store_city  \\\n",
       "sale_date                                                                 \n",
       "2013-01-01 00:00:00+00:00        1  12125 Alamo Ranch Pkwy  San Antonio   \n",
       "2013-01-01 00:00:00+00:00   211817  12018 Perrin Beitel Rd  San Antonio   \n",
       "2013-01-01 00:00:00+00:00   832657  12018 Perrin Beitel Rd  San Antonio   \n",
       "2013-01-01 00:00:00+00:00   213643     15000 San Pedro Ave  San Antonio   \n",
       "2013-01-01 00:00:00+00:00   215469      735 SW Military Dr  San Antonio   \n",
       "\n",
       "                           store_id store_state  store_zipcode    month  \\\n",
       "sale_date                                                                 \n",
       "2013-01-01 00:00:00+00:00         1          TX          78253  January   \n",
       "2013-01-01 00:00:00+00:00         7          TX          78217  January   \n",
       "2013-01-01 00:00:00+00:00         7          TX          78217  January   \n",
       "2013-01-01 00:00:00+00:00         8          TX          78232  January   \n",
       "2013-01-01 00:00:00+00:00         9          TX          78221  January   \n",
       "\n",
       "                          day_of_week  sales_total  \n",
       "sale_date                                           \n",
       "2013-01-01 00:00:00+00:00     Tuesday        10.92  \n",
       "2013-01-01 00:00:00+00:00     Tuesday       218.40  \n",
       "2013-01-01 00:00:00+00:00     Tuesday       125.55  \n",
       "2013-01-01 00:00:00+00:00     Tuesday       453.60  \n",
       "2013-01-01 00:00:00+00:00     Tuesday       294.00  "
      ]
     },
     "execution_count": 41,
     "metadata": {},
     "output_type": "execute_result"
    }
   ],
   "source": [
    "df.head() # check_yo_head"
   ]
  },
  {
   "cell_type": "markdown",
   "id": "2c4b619b",
   "metadata": {},
   "source": [
    "### Make sure all the work that you have done above is reproducible. \n",
    "### That is, you should put the code above into separate functions and be able to re-run the functions and get the same results."
   ]
  },
  {
   "cell_type": "markdown",
   "id": "d85883c3",
   "metadata": {},
   "source": [
    "# Using the OPS data acquired in the Acquire exercises opsd_germany_daily.csv, complete the following:\n",
    "\n",
    "- Convert date column to datetime format.\n",
    "- Plot the distribution of each of your variables.\n",
    "- Set the index to be the datetime variable.\n",
    "- Add a month and a year column to your dataframe.\n",
    "- Fill any missing values.\n",
    "- Make sure all the work that you have done above is reproducible. That is, you should put the code above into separate functions and be able to re-run the functions and get the same results."
   ]
  },
  {
   "cell_type": "code",
   "execution_count": 9,
   "id": "6de9eae1",
   "metadata": {},
   "outputs": [],
   "source": [
    "# getting the german power data\n",
    "ops_df = duetschland_macht()"
   ]
  },
  {
   "cell_type": "code",
   "execution_count": 10,
   "id": "36fd4243",
   "metadata": {},
   "outputs": [
    {
     "data": {
      "text/html": [
       "<div>\n",
       "<style scoped>\n",
       "    .dataframe tbody tr th:only-of-type {\n",
       "        vertical-align: middle;\n",
       "    }\n",
       "\n",
       "    .dataframe tbody tr th {\n",
       "        vertical-align: top;\n",
       "    }\n",
       "\n",
       "    .dataframe thead th {\n",
       "        text-align: right;\n",
       "    }\n",
       "</style>\n",
       "<table border=\"1\" class=\"dataframe\">\n",
       "  <thead>\n",
       "    <tr style=\"text-align: right;\">\n",
       "      <th></th>\n",
       "      <th>Date</th>\n",
       "      <th>Consumption</th>\n",
       "      <th>Wind</th>\n",
       "      <th>Solar</th>\n",
       "      <th>Wind+Solar</th>\n",
       "    </tr>\n",
       "  </thead>\n",
       "  <tbody>\n",
       "    <tr>\n",
       "      <th>0</th>\n",
       "      <td>2006-01-01</td>\n",
       "      <td>1069.184</td>\n",
       "      <td>NaN</td>\n",
       "      <td>NaN</td>\n",
       "      <td>NaN</td>\n",
       "    </tr>\n",
       "    <tr>\n",
       "      <th>1</th>\n",
       "      <td>2006-01-02</td>\n",
       "      <td>1380.521</td>\n",
       "      <td>NaN</td>\n",
       "      <td>NaN</td>\n",
       "      <td>NaN</td>\n",
       "    </tr>\n",
       "    <tr>\n",
       "      <th>2</th>\n",
       "      <td>2006-01-03</td>\n",
       "      <td>1442.533</td>\n",
       "      <td>NaN</td>\n",
       "      <td>NaN</td>\n",
       "      <td>NaN</td>\n",
       "    </tr>\n",
       "    <tr>\n",
       "      <th>3</th>\n",
       "      <td>2006-01-04</td>\n",
       "      <td>1457.217</td>\n",
       "      <td>NaN</td>\n",
       "      <td>NaN</td>\n",
       "      <td>NaN</td>\n",
       "    </tr>\n",
       "    <tr>\n",
       "      <th>4</th>\n",
       "      <td>2006-01-05</td>\n",
       "      <td>1477.131</td>\n",
       "      <td>NaN</td>\n",
       "      <td>NaN</td>\n",
       "      <td>NaN</td>\n",
       "    </tr>\n",
       "  </tbody>\n",
       "</table>\n",
       "</div>"
      ],
      "text/plain": [
       "         Date  Consumption  Wind  Solar  Wind+Solar\n",
       "0  2006-01-01     1069.184   NaN    NaN         NaN\n",
       "1  2006-01-02     1380.521   NaN    NaN         NaN\n",
       "2  2006-01-03     1442.533   NaN    NaN         NaN\n",
       "3  2006-01-04     1457.217   NaN    NaN         NaN\n",
       "4  2006-01-05     1477.131   NaN    NaN         NaN"
      ]
     },
     "execution_count": 10,
     "metadata": {},
     "output_type": "execute_result"
    }
   ],
   "source": [
    "ops_df.head() # check_yo_head"
   ]
  },
  {
   "cell_type": "code",
   "execution_count": 11,
   "id": "e92bd344",
   "metadata": {},
   "outputs": [],
   "source": [
    "# Convert date column to datetime format.\n",
    "ops_df.Date = pd.to_datetime(ops_df.Date)"
   ]
  },
  {
   "cell_type": "code",
   "execution_count": 12,
   "id": "8108d265",
   "metadata": {},
   "outputs": [
    {
     "data": {
      "text/html": [
       "<div>\n",
       "<style scoped>\n",
       "    .dataframe tbody tr th:only-of-type {\n",
       "        vertical-align: middle;\n",
       "    }\n",
       "\n",
       "    .dataframe tbody tr th {\n",
       "        vertical-align: top;\n",
       "    }\n",
       "\n",
       "    .dataframe thead th {\n",
       "        text-align: right;\n",
       "    }\n",
       "</style>\n",
       "<table border=\"1\" class=\"dataframe\">\n",
       "  <thead>\n",
       "    <tr style=\"text-align: right;\">\n",
       "      <th></th>\n",
       "      <th>Date</th>\n",
       "      <th>Consumption</th>\n",
       "      <th>Wind</th>\n",
       "      <th>Solar</th>\n",
       "      <th>Wind+Solar</th>\n",
       "    </tr>\n",
       "  </thead>\n",
       "  <tbody>\n",
       "    <tr>\n",
       "      <th>0</th>\n",
       "      <td>2006-01-01</td>\n",
       "      <td>1069.184</td>\n",
       "      <td>NaN</td>\n",
       "      <td>NaN</td>\n",
       "      <td>NaN</td>\n",
       "    </tr>\n",
       "    <tr>\n",
       "      <th>1</th>\n",
       "      <td>2006-01-02</td>\n",
       "      <td>1380.521</td>\n",
       "      <td>NaN</td>\n",
       "      <td>NaN</td>\n",
       "      <td>NaN</td>\n",
       "    </tr>\n",
       "    <tr>\n",
       "      <th>2</th>\n",
       "      <td>2006-01-03</td>\n",
       "      <td>1442.533</td>\n",
       "      <td>NaN</td>\n",
       "      <td>NaN</td>\n",
       "      <td>NaN</td>\n",
       "    </tr>\n",
       "    <tr>\n",
       "      <th>3</th>\n",
       "      <td>2006-01-04</td>\n",
       "      <td>1457.217</td>\n",
       "      <td>NaN</td>\n",
       "      <td>NaN</td>\n",
       "      <td>NaN</td>\n",
       "    </tr>\n",
       "    <tr>\n",
       "      <th>4</th>\n",
       "      <td>2006-01-05</td>\n",
       "      <td>1477.131</td>\n",
       "      <td>NaN</td>\n",
       "      <td>NaN</td>\n",
       "      <td>NaN</td>\n",
       "    </tr>\n",
       "  </tbody>\n",
       "</table>\n",
       "</div>"
      ],
      "text/plain": [
       "        Date  Consumption  Wind  Solar  Wind+Solar\n",
       "0 2006-01-01     1069.184   NaN    NaN         NaN\n",
       "1 2006-01-02     1380.521   NaN    NaN         NaN\n",
       "2 2006-01-03     1442.533   NaN    NaN         NaN\n",
       "3 2006-01-04     1457.217   NaN    NaN         NaN\n",
       "4 2006-01-05     1477.131   NaN    NaN         NaN"
      ]
     },
     "execution_count": 12,
     "metadata": {},
     "output_type": "execute_result"
    }
   ],
   "source": [
    "ops_df.head() # check_yo_head"
   ]
  },
  {
   "cell_type": "code",
   "execution_count": 13,
   "id": "04573a82",
   "metadata": {},
   "outputs": [],
   "source": [
    "import seaborn as sns"
   ]
  },
  {
   "cell_type": "code",
   "execution_count": null,
   "id": "96d29519",
   "metadata": {},
   "outputs": [],
   "source": [
    "# Plot the distribution of each of your variables.\n",
    "sns.pairplot(ops_df)"
   ]
  },
  {
   "cell_type": "code",
   "execution_count": 14,
   "id": "ad92cb5f",
   "metadata": {},
   "outputs": [
    {
     "data": {
      "text/plain": [
       "array([[<AxesSubplot:title={'center':'Date'}>,\n",
       "        <AxesSubplot:title={'center':'Consumption'}>],\n",
       "       [<AxesSubplot:title={'center':'Wind'}>,\n",
       "        <AxesSubplot:title={'center':'Solar'}>],\n",
       "       [<AxesSubplot:title={'center':'Wind+Solar'}>, <AxesSubplot:>]],\n",
       "      dtype=object)"
      ]
     },
     "execution_count": 14,
     "metadata": {},
     "output_type": "execute_result"
    },
    {
     "data": {
      "image/png": "[encoded data removed]",
      "text/plain": [
       "<Figure size 1800x720 with 6 Axes>"
      ]
     },
     "metadata": {
      "needs_background": "light"
     },
     "output_type": "display_data"
    }
   ],
   "source": [
    "ops_df.hist(figsize=(25,10))"
   ]
  },
  {
   "cell_type": "code",
   "execution_count": 15,
   "id": "40d03a08",
   "metadata": {},
   "outputs": [
    {
     "data": {
      "text/plain": [
       "<AxesSubplot:>"
      ]
     },
     "execution_count": 15,
     "metadata": {},
     "output_type": "execute_result"
    },
    {
     "data": {
      "image/png": "[encoded data removed]",
      "text/plain": [
       "<Figure size 432x288 with 1 Axes>"
      ]
     },
     "metadata": {
      "needs_background": "light"
     },
     "output_type": "display_data"
    }
   ],
   "source": [
    "# dropping a .plot on the data\n",
    "ops_df.plot()"
   ]
  },
  {
   "cell_type": "code",
   "execution_count": 16,
   "id": "88649e51",
   "metadata": {},
   "outputs": [],
   "source": [
    "# Set the index to be the datetime variable.\n",
    "ops_df = ops_df.set_index(\"Date\").sort_index()"
   ]
  },
  {
   "cell_type": "code",
   "execution_count": 17,
   "id": "c4d9dbaf",
   "metadata": {},
   "outputs": [
    {
     "data": {
      "text/plain": [
       "array([[<AxesSubplot:title={'center':'Consumption'}>,\n",
       "        <AxesSubplot:title={'center':'Wind'}>],\n",
       "       [<AxesSubplot:title={'center':'Solar'}>,\n",
       "        <AxesSubplot:title={'center':'Wind+Solar'}>]], dtype=object)"
      ]
     },
     "execution_count": 17,
     "metadata": {},
     "output_type": "execute_result"
    },
    {
     "data": {
      "image/png": "[encoded data removed]",
      "text/plain": [
       "<Figure size 1800x720 with 4 Axes>"
      ]
     },
     "metadata": {
      "needs_background": "light"
     },
     "output_type": "display_data"
    }
   ],
   "source": [
    "ops_df.hist(figsize=(25,10))"
   ]
  },
  {
   "cell_type": "code",
   "execution_count": 18,
   "id": "a89c250b",
   "metadata": {},
   "outputs": [],
   "source": [
    "# Add a month and a year column to your dataframe.\n",
    "ops_df['month'] = ops_df.index.month\n",
    "ops_df['year'] = ops_df.index.year"
   ]
  },
  {
   "cell_type": "code",
   "execution_count": 19,
   "id": "e7a5045d",
   "metadata": {},
   "outputs": [
    {
     "data": {
      "text/html": [
       "<div>\n",
       "<style scoped>\n",
       "    .dataframe tbody tr th:only-of-type {\n",
       "        vertical-align: middle;\n",
       "    }\n",
       "\n",
       "    .dataframe tbody tr th {\n",
       "        vertical-align: top;\n",
       "    }\n",
       "\n",
       "    .dataframe thead th {\n",
       "        text-align: right;\n",
       "    }\n",
       "</style>\n",
       "<table border=\"1\" class=\"dataframe\">\n",
       "  <thead>\n",
       "    <tr style=\"text-align: right;\">\n",
       "      <th></th>\n",
       "      <th>Consumption</th>\n",
       "      <th>Wind</th>\n",
       "      <th>Solar</th>\n",
       "      <th>Wind+Solar</th>\n",
       "      <th>month</th>\n",
       "      <th>year</th>\n",
       "    </tr>\n",
       "    <tr>\n",
       "      <th>Date</th>\n",
       "      <th></th>\n",
       "      <th></th>\n",
       "      <th></th>\n",
       "      <th></th>\n",
       "      <th></th>\n",
       "      <th></th>\n",
       "    </tr>\n",
       "  </thead>\n",
       "  <tbody>\n",
       "    <tr>\n",
       "      <th>2006-01-01</th>\n",
       "      <td>1069.184</td>\n",
       "      <td>NaN</td>\n",
       "      <td>NaN</td>\n",
       "      <td>NaN</td>\n",
       "      <td>1</td>\n",
       "      <td>2006</td>\n",
       "    </tr>\n",
       "    <tr>\n",
       "      <th>2006-01-02</th>\n",
       "      <td>1380.521</td>\n",
       "      <td>NaN</td>\n",
       "      <td>NaN</td>\n",
       "      <td>NaN</td>\n",
       "      <td>1</td>\n",
       "      <td>2006</td>\n",
       "    </tr>\n",
       "    <tr>\n",
       "      <th>2006-01-03</th>\n",
       "      <td>1442.533</td>\n",
       "      <td>NaN</td>\n",
       "      <td>NaN</td>\n",
       "      <td>NaN</td>\n",
       "      <td>1</td>\n",
       "      <td>2006</td>\n",
       "    </tr>\n",
       "    <tr>\n",
       "      <th>2006-01-04</th>\n",
       "      <td>1457.217</td>\n",
       "      <td>NaN</td>\n",
       "      <td>NaN</td>\n",
       "      <td>NaN</td>\n",
       "      <td>1</td>\n",
       "      <td>2006</td>\n",
       "    </tr>\n",
       "    <tr>\n",
       "      <th>2006-01-05</th>\n",
       "      <td>1477.131</td>\n",
       "      <td>NaN</td>\n",
       "      <td>NaN</td>\n",
       "      <td>NaN</td>\n",
       "      <td>1</td>\n",
       "      <td>2006</td>\n",
       "    </tr>\n",
       "  </tbody>\n",
       "</table>\n",
       "</div>"
      ],
      "text/plain": [
       "            Consumption  Wind  Solar  Wind+Solar  month  year\n",
       "Date                                                         \n",
       "2006-01-01     1069.184   NaN    NaN         NaN      1  2006\n",
       "2006-01-02     1380.521   NaN    NaN         NaN      1  2006\n",
       "2006-01-03     1442.533   NaN    NaN         NaN      1  2006\n",
       "2006-01-04     1457.217   NaN    NaN         NaN      1  2006\n",
       "2006-01-05     1477.131   NaN    NaN         NaN      1  2006"
      ]
     },
     "execution_count": 19,
     "metadata": {},
     "output_type": "execute_result"
    }
   ],
   "source": [
    "ops_df.head()"
   ]
  },
  {
   "cell_type": "code",
   "execution_count": 20,
   "id": "98091d72",
   "metadata": {},
   "outputs": [
    {
     "data": {
      "text/plain": [
       "Consumption       0\n",
       "Wind           1463\n",
       "Solar          2195\n",
       "Wind+Solar     2196\n",
       "month             0\n",
       "year              0\n",
       "dtype: int64"
      ]
     },
     "execution_count": 20,
     "metadata": {},
     "output_type": "execute_result"
    }
   ],
   "source": [
    "# Fill any missing values.\n",
    "ops_df.isna().sum()"
   ]
  },
  {
   "cell_type": "code",
   "execution_count": 21,
   "id": "4eb08194",
   "metadata": {},
   "outputs": [],
   "source": [
    "## Fill any missing values.\n",
    "ops_df = ops_df.fillna(0)"
   ]
  },
  {
   "cell_type": "code",
   "execution_count": 22,
   "id": "307abc4b",
   "metadata": {},
   "outputs": [
    {
     "data": {
      "text/plain": [
       "Consumption    0\n",
       "Wind           0\n",
       "Solar          0\n",
       "Wind+Solar     0\n",
       "month          0\n",
       "year           0\n",
       "dtype: int64"
      ]
     },
     "execution_count": 22,
     "metadata": {},
     "output_type": "execute_result"
    }
   ],
   "source": [
    "ops_df.isna().sum()"
   ]
  },
  {
   "cell_type": "code",
   "execution_count": 42,
   "id": "fbd76dbf",
   "metadata": {},
   "outputs": [
    {
     "data": {
      "text/html": [
       "<div>\n",
       "<style scoped>\n",
       "    .dataframe tbody tr th:only-of-type {\n",
       "        vertical-align: middle;\n",
       "    }\n",
       "\n",
       "    .dataframe tbody tr th {\n",
       "        vertical-align: top;\n",
       "    }\n",
       "\n",
       "    .dataframe thead th {\n",
       "        text-align: right;\n",
       "    }\n",
       "</style>\n",
       "<table border=\"1\" class=\"dataframe\">\n",
       "  <thead>\n",
       "    <tr style=\"text-align: right;\">\n",
       "      <th></th>\n",
       "      <th>Consumption</th>\n",
       "      <th>Wind</th>\n",
       "      <th>Solar</th>\n",
       "      <th>Wind+Solar</th>\n",
       "      <th>month</th>\n",
       "      <th>year</th>\n",
       "    </tr>\n",
       "    <tr>\n",
       "      <th>Date</th>\n",
       "      <th></th>\n",
       "      <th></th>\n",
       "      <th></th>\n",
       "      <th></th>\n",
       "      <th></th>\n",
       "      <th></th>\n",
       "    </tr>\n",
       "  </thead>\n",
       "  <tbody>\n",
       "    <tr>\n",
       "      <th>2006-01-01</th>\n",
       "      <td>1069.184</td>\n",
       "      <td>0.0</td>\n",
       "      <td>0.0</td>\n",
       "      <td>0.0</td>\n",
       "      <td>1</td>\n",
       "      <td>2006</td>\n",
       "    </tr>\n",
       "    <tr>\n",
       "      <th>2006-01-02</th>\n",
       "      <td>1380.521</td>\n",
       "      <td>0.0</td>\n",
       "      <td>0.0</td>\n",
       "      <td>0.0</td>\n",
       "      <td>1</td>\n",
       "      <td>2006</td>\n",
       "    </tr>\n",
       "    <tr>\n",
       "      <th>2006-01-03</th>\n",
       "      <td>1442.533</td>\n",
       "      <td>0.0</td>\n",
       "      <td>0.0</td>\n",
       "      <td>0.0</td>\n",
       "      <td>1</td>\n",
       "      <td>2006</td>\n",
       "    </tr>\n",
       "    <tr>\n",
       "      <th>2006-01-04</th>\n",
       "      <td>1457.217</td>\n",
       "      <td>0.0</td>\n",
       "      <td>0.0</td>\n",
       "      <td>0.0</td>\n",
       "      <td>1</td>\n",
       "      <td>2006</td>\n",
       "    </tr>\n",
       "    <tr>\n",
       "      <th>2006-01-05</th>\n",
       "      <td>1477.131</td>\n",
       "      <td>0.0</td>\n",
       "      <td>0.0</td>\n",
       "      <td>0.0</td>\n",
       "      <td>1</td>\n",
       "      <td>2006</td>\n",
       "    </tr>\n",
       "  </tbody>\n",
       "</table>\n",
       "</div>"
      ],
      "text/plain": [
       "            Consumption  Wind  Solar  Wind+Solar  month  year\n",
       "Date                                                         \n",
       "2006-01-01     1069.184   0.0    0.0         0.0      1  2006\n",
       "2006-01-02     1380.521   0.0    0.0         0.0      1  2006\n",
       "2006-01-03     1442.533   0.0    0.0         0.0      1  2006\n",
       "2006-01-04     1457.217   0.0    0.0         0.0      1  2006\n",
       "2006-01-05     1477.131   0.0    0.0         0.0      1  2006"
      ]
     },
     "execution_count": 42,
     "metadata": {},
     "output_type": "execute_result"
    }
   ],
   "source": [
    "ops_df.head() # check_yo_head"
   ]
  },
  {
   "cell_type": "markdown",
   "id": "d3b4ed3d",
   "metadata": {},
   "source": [
    "## Make sure all the work that you have done above is reproducible. \n",
    "## That is, you should put the code above into separate functions and be able to re-run the functions and get the same results."
   ]
  },
  {
   "cell_type": "code",
   "execution_count": null,
   "id": "80842169",
   "metadata": {},
   "outputs": [],
   "source": [
    "# df[df['Wind+Solar'] != (df['Wind'] + df['Solar'])]\n",
    "# df['wind_solar_custm'] = df['Wind'] + df['Solar']\n",
    "# df[df['Wind+Solar'] != (df['Wind'] + df['Solar'])][['Wind', 'Solar', 'Wind+Solar', 'wind_solar_custm']]"
   ]
  }
 ],
 "metadata": {
  "kernelspec": {
   "display_name": "Python 3",
   "language": "python",
   "name": "python3"
  },
  "language_info": {
   "codemirror_mode": {
    "name": "ipython",
    "version": 3
   },
   "file_extension": ".py",
   "mimetype": "text/x-python",
   "name": "python",
   "nbconvert_exporter": "python",
   "pygments_lexer": "ipython3",
   "version": "3.8.8"
  }
 },
 "nbformat": 4,
 "nbformat_minor": 5
}
