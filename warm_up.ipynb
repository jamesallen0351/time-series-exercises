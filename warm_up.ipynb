{
 "cells": [
  {
   "cell_type": "markdown",
   "id": "a0e0527d",
   "metadata": {},
   "source": [
    "# Warm Up\n",
    "\n",
    "### Today's warm-up:\n",
    "1. Copy your env.py file into your time-series-exercises directory\n",
    "2. Ensure env.py is added to your .gitignore file\n",
    "3. In your SQL client, write a query to acquire data from the 3 tables in the tsa_item_demand database. The tables should be joined in the sql query.\n",
    "4. Open a jupyter notebook, import env and pandas, and define the function, get_connection(db, user, host, password) , that opens the connection to the sql database  (hint: you've written this function before, so reference that if needed).\n",
    "6. Create a variable query that stores the sql query you wrote in #3.\n",
    "7. Using the function, pandas.read_sql() , run your query in the tsa_item_demand database."
   ]
  },
  {
   "cell_type": "code",
   "execution_count": 3,
   "id": "050813f8",
   "metadata": {},
   "outputs": [],
   "source": [
    "import pandas as pd\n",
    "import numpy as np\n",
    "import os\n",
    "from env import host, user, password\n",
    "\n",
    "from warm_up import tsa_item_data"
   ]
  },
  {
   "cell_type": "code",
   "execution_count": 5,
   "id": "675858f5",
   "metadata": {},
   "outputs": [],
   "source": [
    "def get_connection(db, user=user, host=host, password=password):\n",
    "    '''\n",
    "    This function uses my info from my env file to\n",
    "    create a connection url to access the Codeup db.\n",
    "    It takes in a string name of a database as an argument.\n",
    "    '''\n",
    "    return f'mysql+pymysql://{user}:{password}@{host}/{db}'"
   ]
  },
  {
   "cell_type": "code",
   "execution_count": 6,
   "id": "7f689f91",
   "metadata": {},
   "outputs": [],
   "source": [
    "def tsa_item_data():\n",
    "    '''\n",
    "    This function reads the tsa_item_demand data from the Codeup db into a df,\n",
    "    write it to a csv file, and returns the df.\n",
    "    '''\n",
    "    # Create SQL query.\n",
    "    sql_query = \"\"\"SELECT * FROM items\"\"\"\n",
    "    \n",
    "    # Read in DataFrame from Codeup db.\n",
    "    df = pd.read_sql(sql_query, get_connection('tsa_item_demand'))\n",
    "    \n",
    "    return df"
   ]
  },
  {
   "cell_type": "code",
   "execution_count": 7,
   "id": "bb45d93f",
   "metadata": {},
   "outputs": [],
   "source": [
    "df = tsa_item_data()"
   ]
  },
  {
   "cell_type": "code",
   "execution_count": 8,
   "id": "6b6a1be2",
   "metadata": {},
   "outputs": [
    {
     "data": {
      "text/html": [
       "<div>\n",
       "<style scoped>\n",
       "    .dataframe tbody tr th:only-of-type {\n",
       "        vertical-align: middle;\n",
       "    }\n",
       "\n",
       "    .dataframe tbody tr th {\n",
       "        vertical-align: top;\n",
       "    }\n",
       "\n",
       "    .dataframe thead th {\n",
       "        text-align: right;\n",
       "    }\n",
       "</style>\n",
       "<table border=\"1\" class=\"dataframe\">\n",
       "  <thead>\n",
       "    <tr style=\"text-align: right;\">\n",
       "      <th></th>\n",
       "      <th>item_id</th>\n",
       "      <th>item_upc14</th>\n",
       "      <th>item_upc12</th>\n",
       "      <th>item_brand</th>\n",
       "      <th>item_name</th>\n",
       "      <th>item_price</th>\n",
       "    </tr>\n",
       "  </thead>\n",
       "  <tbody>\n",
       "    <tr>\n",
       "      <th>0</th>\n",
       "      <td>1</td>\n",
       "      <td>35200264013</td>\n",
       "      <td>35200264013</td>\n",
       "      <td>Riceland</td>\n",
       "      <td>Riceland American Jazmine Rice</td>\n",
       "      <td>0.84</td>\n",
       "    </tr>\n",
       "    <tr>\n",
       "      <th>1</th>\n",
       "      <td>2</td>\n",
       "      <td>11111065925</td>\n",
       "      <td>11111065925</td>\n",
       "      <td>Caress</td>\n",
       "      <td>Caress Velvet Bliss Ultra Silkening Beauty Bar...</td>\n",
       "      <td>6.44</td>\n",
       "    </tr>\n",
       "    <tr>\n",
       "      <th>2</th>\n",
       "      <td>3</td>\n",
       "      <td>23923330139</td>\n",
       "      <td>23923330139</td>\n",
       "      <td>Earths Best</td>\n",
       "      <td>Earths Best Organic Fruit Yogurt Smoothie Mixe...</td>\n",
       "      <td>2.43</td>\n",
       "    </tr>\n",
       "    <tr>\n",
       "      <th>3</th>\n",
       "      <td>4</td>\n",
       "      <td>208528800007</td>\n",
       "      <td>208528800007</td>\n",
       "      <td>Boars Head</td>\n",
       "      <td>Boars Head Sliced White American Cheese - 120 Ct</td>\n",
       "      <td>3.14</td>\n",
       "    </tr>\n",
       "    <tr>\n",
       "      <th>4</th>\n",
       "      <td>5</td>\n",
       "      <td>759283100036</td>\n",
       "      <td>759283100036</td>\n",
       "      <td>Back To Nature</td>\n",
       "      <td>Back To Nature Gluten Free White Cheddar Rice ...</td>\n",
       "      <td>2.61</td>\n",
       "    </tr>\n",
       "  </tbody>\n",
       "</table>\n",
       "</div>"
      ],
      "text/plain": [
       "   item_id    item_upc14    item_upc12      item_brand  \\\n",
       "0        1   35200264013   35200264013        Riceland   \n",
       "1        2   11111065925   11111065925          Caress   \n",
       "2        3   23923330139   23923330139     Earths Best   \n",
       "3        4  208528800007  208528800007      Boars Head   \n",
       "4        5  759283100036  759283100036  Back To Nature   \n",
       "\n",
       "                                           item_name  item_price  \n",
       "0                     Riceland American Jazmine Rice        0.84  \n",
       "1  Caress Velvet Bliss Ultra Silkening Beauty Bar...        6.44  \n",
       "2  Earths Best Organic Fruit Yogurt Smoothie Mixe...        2.43  \n",
       "3   Boars Head Sliced White American Cheese - 120 Ct        3.14  \n",
       "4  Back To Nature Gluten Free White Cheddar Rice ...        2.61  "
      ]
     },
     "execution_count": 8,
     "metadata": {},
     "output_type": "execute_result"
    }
   ],
   "source": [
    "df.head()"
   ]
  },
  {
   "cell_type": "code",
   "execution_count": null,
   "id": "10156774",
   "metadata": {},
   "outputs": [],
   "source": []
  },
  {
   "cell_type": "code",
   "execution_count": null,
   "id": "20a61e47",
   "metadata": {},
   "outputs": [],
   "source": []
  }
 ],
 "metadata": {
  "kernelspec": {
   "display_name": "Python 3",
   "language": "python",
   "name": "python3"
  },
  "language_info": {
   "codemirror_mode": {
    "name": "ipython",
    "version": 3
   },
   "file_extension": ".py",
   "mimetype": "text/x-python",
   "name": "python",
   "nbconvert_exporter": "python",
   "pygments_lexer": "ipython3",
   "version": "3.8.8"
  }
 },
 "nbformat": 4,
 "nbformat_minor": 5
}
